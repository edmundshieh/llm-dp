{
 "cells": [
  {
   "cell_type": "code",
   "execution_count": 1,
   "metadata": {},
   "outputs": [],
   "source": [
    "import openai\n",
    "from config import LLMDPConfig\n",
    "\n",
    "openai.api_key = LLMDPConfig.openai_api_key"
   ]
  },
  {
   "cell_type": "code",
   "execution_count": 3,
   "metadata": {},
   "outputs": [
    {
     "name": "stdout",
     "output_type": "stream",
     "text": [
      "Initializing AlfredTWEnv...\n",
      "Checking for solvable games...\n",
      "Overall we have 134 games\n",
      "Evaluating with 134 games\n"
     ]
    }
   ],
   "source": [
    "import yaml\n",
    "import alfworld\n",
    "import alfworld.agents.environment\n",
    "\n",
    "with open(f\"{LLMDPConfig.alfworld_config_path}/base_config.yaml\") as reader:\n",
    "    config = yaml.safe_load(reader)\n",
    "\n",
    "split = \"eval_out_of_distribution\"\n",
    "# split = \"train\"\n",
    "\n",
    "# UPDATE PATH TO ALFWORLD DATA\n",
    "for k in config:\n",
    "    for i, j in config[k].items():\n",
    "        if type(j) == str and j.startswith(\"$\"):\n",
    "            config[k][i] = config[k][i].replace(\n",
    "                \"$ALFWORLD_DATA\", LLMDPConfig.alfworld_data_path\n",
    "            )\n",
    "\n",
    "env = getattr(alfworld.agents.environment, config[\"env\"][\"type\"])(\n",
    "    config, train_eval=split\n",
    ")\n",
    "env = env.init_env(batch_size=1)\n",
    "\n",
    "\n",
    "def process_ob(ob):\n",
    "    if ob.startswith(\"You arrive at loc \"):\n",
    "        ob = ob[ob.find(\". \") + 2 :]\n",
    "    return ob\n",
    "\n",
    "NUM_GAMEFILES = len(env.gamefiles)"
   ]
  },
  {
   "attachments": {},
   "cell_type": "markdown",
   "metadata": {},
   "source": [
    "# React Baseline\n"
   ]
  },
  {
   "cell_type": "code",
   "execution_count": 4,
   "metadata": {},
   "outputs": [],
   "source": [
    "from openai.error import RateLimitError\n",
    "import time\n",
    "\n",
    "def llm(prompt, stop=[\"\\n\"], temperature=0):\n",
    "    try:\n",
    "        response = openai.Completion.create(\n",
    "            model=\"text-davinci-003\",\n",
    "            prompt=prompt,\n",
    "            temperature=temperature,\n",
    "            max_tokens=100,\n",
    "            top_p=1,\n",
    "            frequency_penalty=0.0,\n",
    "            presence_penalty=0.0,\n",
    "            stop=stop,\n",
    "        )\n",
    "        return response[\"choices\"][0][\"text\"]\n",
    "    except RateLimitError:\n",
    "        print(\"Rate limit error.. sleeping for 5 seconds\")\n",
    "        time.sleep(5)\n",
    "        return llm(prompt, stop, temperature)"
   ]
  },
  {
   "cell_type": "code",
   "execution_count": 5,
   "metadata": {},
   "outputs": [],
   "source": [
    "import sys\n",
    "import json\n",
    "\n",
    "# load prompt few-shot templates\n",
    "folder = \"./prompts/\"\n",
    "prompt_file = \"alfworld_3prompts_react.json\"\n",
    "with open(folder + prompt_file, \"r\") as f:\n",
    "    alfworld_3prompts_react = json.load(f)\n",
    "\n",
    "\n",
    "def alfworld_react_run(prompt, to_print=True, ob=\"\"):\n",
    "    init_prompt = prompt + ob + \"\\n>\"\n",
    "    prompt = \"\"\n",
    "    if to_print:\n",
    "        print(ob)\n",
    "        sys.stdout.flush()\n",
    "    for i in range(1, LLMDPConfig.max_steps):\n",
    "        action = llm(init_prompt + prompt, stop=[\"\\n\"]).strip()\n",
    "        observation, reward, done, info = env.step([action])\n",
    "        observation, reward, done = process_ob(observation[0]), info[\"won\"][0], done[0]\n",
    "        if action.startswith(\"think:\"):\n",
    "            observation = \"OK.\"\n",
    "        if to_print:\n",
    "            print(f\"Act {i}: {action}\\nObs {i}: {observation}\")\n",
    "            sys.stdout.flush()\n",
    "        prompt += f\" {action}\\n{observation}\\n>\"\n",
    "        if done:\n",
    "            return reward, i\n",
    "    return 0, i\n"
   ]
  },
  {
   "cell_type": "code",
   "execution_count": null,
   "metadata": {},
   "outputs": [],
   "source": [
    "prefixes = {\n",
    "    \"pick_and_place\": \"put\",\n",
    "    \"pick_clean_then_place\": \"clean\",\n",
    "    \"pick_heat_then_place\": \"heat\",\n",
    "    \"pick_cool_then_place\": \"cool\",\n",
    "    \"look_at_obj\": \"examine\",\n",
    "    \"pick_two_obj\": \"puttwo\",\n",
    "}\n",
    "cnts = [0] * 6 \n",
    "rs = [0] * 6\n",
    "results = []\n",
    "\n",
    "LLMDPConfig.name = \"react\"\n",
    "\n",
    "for _ in range(NUM_GAMEFILES):\n",
    "    ob, info = env.reset()\n",
    "    ob = \"\\n\".join(ob[0].split(\"\\n\\n\")[1:])\n",
    "    name = \"/\".join(info[\"extra.gamefile\"][0].split(\"/\")[-3:-1])\n",
    "    print(name)\n",
    "    for i, (k, v) in enumerate(prefixes.items()):\n",
    "        if name.startswith(k):\n",
    "            prompt = (\n",
    "                \"Interact with a household to solve a task. Here are two examples.\\n\"\n",
    "                + alfworld_3prompts_react[f\"react_{v}_1\"]\n",
    "                + alfworld_3prompts_react[f\"react_{v}_0\"]\n",
    "                + \"\\nHere is the task.\\n\"\n",
    "            )\n",
    "            print(k, v)\n",
    "            r, length = alfworld_react_run(prompt, ob=ob)\n",
    "            rs[i] += r\n",
    "            cnts[i] += 1\n",
    "            break\n",
    "    results.append(\n",
    "        {\n",
    "            \"task\": v,\n",
    "            \"success\": r,\n",
    "            \"length\": length,\n",
    "        }\n",
    "    )\n",
    "    print(\n",
    "        _ + 1, \"r\", r, \"rs\", rs, \"cnts\", cnts, \"sum(rs)/sum(cnts)\", sum(rs) / sum(cnts)\n",
    "    )\n",
    "    print(\"------------\\n\")\n",
    "    with open(\n",
    "            f\"{LLMDPConfig.output_dir}/{LLMDPConfig.name}_{LLMDPConfig.llm_model}_results.json\",\n",
    "            \"w\",\n",
    "        ) as f:\n",
    "            json.dump(results, f)"
   ]
  }
 ],
 "metadata": {
  "kernelspec": {
   "display_name": "alfworld",
   "language": "python",
   "name": "python3"
  },
  "language_info": {
   "codemirror_mode": {
    "name": "ipython",
    "version": 3
   },
   "file_extension": ".py",
   "mimetype": "text/x-python",
   "name": "python",
   "nbconvert_exporter": "python",
   "pygments_lexer": "ipython3",
   "version": "3.11.3"
  },
  "orig_nbformat": 4
 },
 "nbformat": 4,
 "nbformat_minor": 2
}
